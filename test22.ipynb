{
 "cells": [
  {
   "cell_type": "code",
   "execution_count": 17,
   "id": "df197793",
   "metadata": {},
   "outputs": [],
   "source": [
    "import pandas as pd\n",
    "import numpy as np\n",
    "import matplotlib.pyplot as plt\n",
    "%matplotlib inline\n",
    "import seaborn as sns\n",
    "\n",
    "\n",
    "import warnings\n",
    "warnings.filterwarnings('ignore')"
   ]
  },
  {
   "cell_type": "markdown",
   "id": "6449be5c",
   "metadata": {},
   "source": [
    "# Read dataset"
   ]
  },
  {
   "cell_type": "code",
   "execution_count": 18,
   "id": "6365dfc0",
   "metadata": {},
   "outputs": [],
   "source": [
    "df1 = pd.read_csv(\"Expense Data 1.csv\")"
   ]
  },
  {
   "cell_type": "code",
   "execution_count": 19,
   "id": "62f4437b",
   "metadata": {},
   "outputs": [],
   "source": [
    "df2 = pd.read_csv(\"Expense Amount Data 1.csv\")"
   ]
  },
  {
   "cell_type": "code",
   "execution_count": 20,
   "id": "5002eac6",
   "metadata": {},
   "outputs": [
    {
     "data": {
      "text/html": [
       "<div>\n",
       "<style scoped>\n",
       "    .dataframe tbody tr th:only-of-type {\n",
       "        vertical-align: middle;\n",
       "    }\n",
       "\n",
       "    .dataframe tbody tr th {\n",
       "        vertical-align: top;\n",
       "    }\n",
       "\n",
       "    .dataframe thead th {\n",
       "        text-align: right;\n",
       "    }\n",
       "</style>\n",
       "<table border=\"1\" class=\"dataframe\">\n",
       "  <thead>\n",
       "    <tr style=\"text-align: right;\">\n",
       "      <th></th>\n",
       "      <th>Expense Code</th>\n",
       "      <th>Month</th>\n",
       "      <th>Expense Quantity</th>\n",
       "      <th>Government Entity</th>\n",
       "    </tr>\n",
       "  </thead>\n",
       "  <tbody>\n",
       "    <tr>\n",
       "      <th>0</th>\n",
       "      <td>10003</td>\n",
       "      <td>42948</td>\n",
       "      <td>1530</td>\n",
       "      <td>Ministry of Education</td>\n",
       "    </tr>\n",
       "    <tr>\n",
       "      <th>1</th>\n",
       "      <td>10003</td>\n",
       "      <td>42979</td>\n",
       "      <td>3060</td>\n",
       "      <td>Ministry of Education</td>\n",
       "    </tr>\n",
       "    <tr>\n",
       "      <th>2</th>\n",
       "      <td>10007</td>\n",
       "      <td>42917</td>\n",
       "      <td>1792</td>\n",
       "      <td>Ministry of Health</td>\n",
       "    </tr>\n",
       "    <tr>\n",
       "      <th>3</th>\n",
       "      <td>10007</td>\n",
       "      <td>42979</td>\n",
       "      <td>2048</td>\n",
       "      <td>Ministry of Health</td>\n",
       "    </tr>\n",
       "    <tr>\n",
       "      <th>4</th>\n",
       "      <td>10007</td>\n",
       "      <td>43132</td>\n",
       "      <td>1024</td>\n",
       "      <td>Ministry of Health</td>\n",
       "    </tr>\n",
       "    <tr>\n",
       "      <th>...</th>\n",
       "      <td>...</td>\n",
       "      <td>...</td>\n",
       "      <td>...</td>\n",
       "      <td>...</td>\n",
       "    </tr>\n",
       "    <tr>\n",
       "      <th>17080</th>\n",
       "      <td>9990</td>\n",
       "      <td>42856</td>\n",
       "      <td>2700</td>\n",
       "      <td>Ministry of Health</td>\n",
       "    </tr>\n",
       "    <tr>\n",
       "      <th>17081</th>\n",
       "      <td>9990</td>\n",
       "      <td>43160</td>\n",
       "      <td>100</td>\n",
       "      <td>Ministry of Health</td>\n",
       "    </tr>\n",
       "    <tr>\n",
       "      <th>17082</th>\n",
       "      <td>9996</td>\n",
       "      <td>42826</td>\n",
       "      <td>7800</td>\n",
       "      <td>Ministry of Energy</td>\n",
       "    </tr>\n",
       "    <tr>\n",
       "      <th>17083</th>\n",
       "      <td>9996</td>\n",
       "      <td>43009</td>\n",
       "      <td>5200</td>\n",
       "      <td>Ministry of Energy</td>\n",
       "    </tr>\n",
       "    <tr>\n",
       "      <th>17084</th>\n",
       "      <td>9996</td>\n",
       "      <td>43191</td>\n",
       "      <td>7800</td>\n",
       "      <td>Ministry of Energy</td>\n",
       "    </tr>\n",
       "  </tbody>\n",
       "</table>\n",
       "<p>17085 rows × 4 columns</p>\n",
       "</div>"
      ],
      "text/plain": [
       "       Expense Code  Month Expense Quantity      Government Entity\n",
       "0             10003  42948             1530  Ministry of Education\n",
       "1             10003  42979             3060  Ministry of Education\n",
       "2             10007  42917             1792     Ministry of Health\n",
       "3             10007  42979             2048     Ministry of Health\n",
       "4             10007  43132             1024     Ministry of Health\n",
       "...             ...    ...              ...                    ...\n",
       "17080          9990  42856             2700     Ministry of Health\n",
       "17081          9990  43160              100     Ministry of Health\n",
       "17082          9996  42826             7800     Ministry of Energy\n",
       "17083          9996  43009             5200     Ministry of Energy\n",
       "17084          9996  43191             7800     Ministry of Energy\n",
       "\n",
       "[17085 rows x 4 columns]"
      ]
     },
     "execution_count": 20,
     "metadata": {},
     "output_type": "execute_result"
    }
   ],
   "source": [
    "df1"
   ]
  },
  {
   "cell_type": "code",
   "execution_count": 21,
   "id": "756b0d84",
   "metadata": {},
   "outputs": [
    {
     "data": {
      "text/html": [
       "<div>\n",
       "<style scoped>\n",
       "    .dataframe tbody tr th:only-of-type {\n",
       "        vertical-align: middle;\n",
       "    }\n",
       "\n",
       "    .dataframe tbody tr th {\n",
       "        vertical-align: top;\n",
       "    }\n",
       "\n",
       "    .dataframe thead th {\n",
       "        text-align: right;\n",
       "    }\n",
       "</style>\n",
       "<table border=\"1\" class=\"dataframe\">\n",
       "  <thead>\n",
       "    <tr style=\"text-align: right;\">\n",
       "      <th></th>\n",
       "      <th>Expense Code</th>\n",
       "      <th>Expense Amount (SAR)</th>\n",
       "    </tr>\n",
       "  </thead>\n",
       "  <tbody>\n",
       "    <tr>\n",
       "      <th>0</th>\n",
       "      <td>10532</td>\n",
       "      <td>4.46</td>\n",
       "    </tr>\n",
       "    <tr>\n",
       "      <th>1</th>\n",
       "      <td>10640</td>\n",
       "      <td>6.84</td>\n",
       "    </tr>\n",
       "    <tr>\n",
       "      <th>2</th>\n",
       "      <td>11053</td>\n",
       "      <td>0.36</td>\n",
       "    </tr>\n",
       "    <tr>\n",
       "      <th>3</th>\n",
       "      <td>11291</td>\n",
       "      <td>2.47</td>\n",
       "    </tr>\n",
       "    <tr>\n",
       "      <th>4</th>\n",
       "      <td>11436</td>\n",
       "      <td>1.70</td>\n",
       "    </tr>\n",
       "    <tr>\n",
       "      <th>...</th>\n",
       "      <td>...</td>\n",
       "      <td>...</td>\n",
       "    </tr>\n",
       "    <tr>\n",
       "      <th>3782</th>\n",
       "      <td>9827</td>\n",
       "      <td>10.45</td>\n",
       "    </tr>\n",
       "    <tr>\n",
       "      <th>3783</th>\n",
       "      <td>9838</td>\n",
       "      <td>4.41</td>\n",
       "    </tr>\n",
       "    <tr>\n",
       "      <th>3784</th>\n",
       "      <td>9859</td>\n",
       "      <td>5.12</td>\n",
       "    </tr>\n",
       "    <tr>\n",
       "      <th>3785</th>\n",
       "      <td>9920</td>\n",
       "      <td>0.42</td>\n",
       "    </tr>\n",
       "    <tr>\n",
       "      <th>3786</th>\n",
       "      <td>9990</td>\n",
       "      <td>3.63</td>\n",
       "    </tr>\n",
       "  </tbody>\n",
       "</table>\n",
       "<p>3787 rows × 2 columns</p>\n",
       "</div>"
      ],
      "text/plain": [
       "      Expense Code  Expense Amount (SAR)\n",
       "0            10532                  4.46\n",
       "1            10640                  6.84\n",
       "2            11053                  0.36\n",
       "3            11291                  2.47\n",
       "4            11436                  1.70\n",
       "...            ...                   ...\n",
       "3782          9827                 10.45\n",
       "3783          9838                  4.41\n",
       "3784          9859                  5.12\n",
       "3785          9920                  0.42\n",
       "3786          9990                  3.63\n",
       "\n",
       "[3787 rows x 2 columns]"
      ]
     },
     "execution_count": 21,
     "metadata": {},
     "output_type": "execute_result"
    }
   ],
   "source": [
    "df2"
   ]
  },
  {
   "cell_type": "markdown",
   "id": "10739a6c",
   "metadata": {},
   "source": [
    "# Merged Method"
   ]
  },
  {
   "cell_type": "code",
   "execution_count": 22,
   "id": "4bdc8880",
   "metadata": {},
   "outputs": [],
   "source": [
    "merged=df1.merge(df2, on=['Expense Code'])"
   ]
  },
  {
   "cell_type": "code",
   "execution_count": 23,
   "id": "043ca38f",
   "metadata": {},
   "outputs": [
    {
     "data": {
      "text/html": [
       "<div>\n",
       "<style scoped>\n",
       "    .dataframe tbody tr th:only-of-type {\n",
       "        vertical-align: middle;\n",
       "    }\n",
       "\n",
       "    .dataframe tbody tr th {\n",
       "        vertical-align: top;\n",
       "    }\n",
       "\n",
       "    .dataframe thead th {\n",
       "        text-align: right;\n",
       "    }\n",
       "</style>\n",
       "<table border=\"1\" class=\"dataframe\">\n",
       "  <thead>\n",
       "    <tr style=\"text-align: right;\">\n",
       "      <th></th>\n",
       "      <th>Expense Code</th>\n",
       "      <th>Month</th>\n",
       "      <th>Expense Quantity</th>\n",
       "      <th>Government Entity</th>\n",
       "      <th>Expense Amount (SAR)</th>\n",
       "    </tr>\n",
       "  </thead>\n",
       "  <tbody>\n",
       "    <tr>\n",
       "      <th>0</th>\n",
       "      <td>10003</td>\n",
       "      <td>42948</td>\n",
       "      <td>1530</td>\n",
       "      <td>Ministry of Education</td>\n",
       "      <td>4.48</td>\n",
       "    </tr>\n",
       "    <tr>\n",
       "      <th>1</th>\n",
       "      <td>10003</td>\n",
       "      <td>42979</td>\n",
       "      <td>3060</td>\n",
       "      <td>Ministry of Education</td>\n",
       "      <td>4.48</td>\n",
       "    </tr>\n",
       "    <tr>\n",
       "      <th>2</th>\n",
       "      <td>10007</td>\n",
       "      <td>42917</td>\n",
       "      <td>1792</td>\n",
       "      <td>Ministry of Health</td>\n",
       "      <td>8.82</td>\n",
       "    </tr>\n",
       "    <tr>\n",
       "      <th>3</th>\n",
       "      <td>10007</td>\n",
       "      <td>42979</td>\n",
       "      <td>2048</td>\n",
       "      <td>Ministry of Health</td>\n",
       "      <td>8.82</td>\n",
       "    </tr>\n",
       "    <tr>\n",
       "      <th>4</th>\n",
       "      <td>10007</td>\n",
       "      <td>43132</td>\n",
       "      <td>1024</td>\n",
       "      <td>Ministry of Health</td>\n",
       "      <td>8.82</td>\n",
       "    </tr>\n",
       "  </tbody>\n",
       "</table>\n",
       "</div>"
      ],
      "text/plain": [
       "   Expense Code  Month Expense Quantity      Government Entity  \\\n",
       "0         10003  42948             1530  Ministry of Education   \n",
       "1         10003  42979             3060  Ministry of Education   \n",
       "2         10007  42917             1792     Ministry of Health   \n",
       "3         10007  42979             2048     Ministry of Health   \n",
       "4         10007  43132             1024     Ministry of Health   \n",
       "\n",
       "   Expense Amount (SAR)  \n",
       "0                  4.48  \n",
       "1                  4.48  \n",
       "2                  8.82  \n",
       "3                  8.82  \n",
       "4                  8.82  "
      ]
     },
     "execution_count": 23,
     "metadata": {},
     "output_type": "execute_result"
    }
   ],
   "source": [
    "merged.head()"
   ]
  },
  {
   "cell_type": "code",
   "execution_count": 24,
   "id": "a292c160",
   "metadata": {},
   "outputs": [
    {
     "data": {
      "text/plain": [
       "(17085, 5)"
      ]
     },
     "execution_count": 24,
     "metadata": {},
     "output_type": "execute_result"
    }
   ],
   "source": [
    "merged.shape"
   ]
  },
  {
   "cell_type": "markdown",
   "id": "df84c0c7",
   "metadata": {},
   "source": [
    "# Information about dataset"
   ]
  },
  {
   "cell_type": "code",
   "execution_count": 25,
   "id": "43e97d39",
   "metadata": {},
   "outputs": [
    {
     "name": "stdout",
     "output_type": "stream",
     "text": [
      "<class 'pandas.core.frame.DataFrame'>\n",
      "Int64Index: 17085 entries, 0 to 17084\n",
      "Data columns (total 5 columns):\n",
      " #   Column                Non-Null Count  Dtype  \n",
      "---  ------                --------------  -----  \n",
      " 0   Expense Code          17085 non-null  int64  \n",
      " 1   Month                 17085 non-null  object \n",
      " 2   Expense Quantity      17083 non-null  object \n",
      " 3   Government Entity     17085 non-null  object \n",
      " 4   Expense Amount (SAR)  17085 non-null  float64\n",
      "dtypes: float64(1), int64(1), object(3)\n",
      "memory usage: 800.9+ KB\n"
     ]
    }
   ],
   "source": [
    "merged.info()"
   ]
  },
  {
   "cell_type": "markdown",
   "id": "b1c22b4b",
   "metadata": {},
   "source": [
    "# Data Cleaning"
   ]
  },
  {
   "cell_type": "code",
   "execution_count": 26,
   "id": "c2bd360d",
   "metadata": {},
   "outputs": [
    {
     "data": {
      "text/plain": [
       "Expense Code            0\n",
       "Month                   0\n",
       "Expense Quantity        2\n",
       "Government Entity       0\n",
       "Expense Amount (SAR)    0\n",
       "dtype: int64"
      ]
     },
     "execution_count": 26,
     "metadata": {},
     "output_type": "execute_result"
    }
   ],
   "source": [
    "merged.isna().sum()"
   ]
  },
  {
   "cell_type": "code",
   "execution_count": 27,
   "id": "3b19c841",
   "metadata": {},
   "outputs": [],
   "source": [
    "merged = merged.fillna(value = 0)"
   ]
  },
  {
   "cell_type": "code",
   "execution_count": 28,
   "id": "dc1cb92a",
   "metadata": {},
   "outputs": [
    {
     "data": {
      "text/plain": [
       "Expense Code            0\n",
       "Month                   0\n",
       "Expense Quantity        0\n",
       "Government Entity       0\n",
       "Expense Amount (SAR)    0\n",
       "dtype: int64"
      ]
     },
     "execution_count": 28,
     "metadata": {},
     "output_type": "execute_result"
    }
   ],
   "source": [
    "merged.isna().sum()"
   ]
  },
  {
   "cell_type": "code",
   "execution_count": 29,
   "id": "1772ce9a",
   "metadata": {},
   "outputs": [
    {
     "data": {
      "text/plain": [
       "0"
      ]
     },
     "execution_count": 29,
     "metadata": {},
     "output_type": "execute_result"
    }
   ],
   "source": [
    "merged.duplicated().sum()"
   ]
  },
  {
   "cell_type": "markdown",
   "id": "075e3ad0",
   "metadata": {},
   "source": [
    "# Data Preprocessing"
   ]
  },
  {
   "cell_type": "code",
   "execution_count": 30,
   "id": "a0e47806",
   "metadata": {},
   "outputs": [],
   "source": [
    "# Convert the string to an integer\n",
    "merged['Expense Quantity'] = pd.to_numeric(merged['Expense Quantity'], errors='coerce').fillna(0, downcast='infer')"
   ]
  },
  {
   "cell_type": "code",
   "execution_count": 31,
   "id": "c2fceb38",
   "metadata": {},
   "outputs": [
    {
     "data": {
      "text/plain": [
       "0       2017-08-01\n",
       "1       2017-09-01\n",
       "2       2017-07-01\n",
       "3       2017-09-01\n",
       "4       2018-02-01\n",
       "           ...    \n",
       "17080   2017-05-01\n",
       "17081   2018-03-01\n",
       "17082   2017-04-01\n",
       "17083   2017-10-01\n",
       "17084   2018-04-01\n",
       "Name: Date, Length: 17085, dtype: datetime64[ns]"
      ]
     },
     "execution_count": 31,
     "metadata": {},
     "output_type": "execute_result"
    }
   ],
   "source": [
    "# Convert the Month\n",
    "merged['Date']=pd.to_datetime(pd.to_numeric(merged['Month'],errors='coerce'),errors='coerce',origin='1899-12-30',unit='D')\n",
    "\n",
    "merged['Date']"
   ]
  },
  {
   "cell_type": "code",
   "execution_count": 32,
   "id": "afe844a5",
   "metadata": {},
   "outputs": [
    {
     "name": "stdout",
     "output_type": "stream",
     "text": [
      "<class 'pandas.core.frame.DataFrame'>\n",
      "Int64Index: 17085 entries, 0 to 17084\n",
      "Data columns (total 6 columns):\n",
      " #   Column                Non-Null Count  Dtype         \n",
      "---  ------                --------------  -----         \n",
      " 0   Expense Code          17085 non-null  int64         \n",
      " 1   Month                 17085 non-null  object        \n",
      " 2   Expense Quantity      17085 non-null  int64         \n",
      " 3   Government Entity     17085 non-null  object        \n",
      " 4   Expense Amount (SAR)  17085 non-null  float64       \n",
      " 5   Date                  17083 non-null  datetime64[ns]\n",
      "dtypes: datetime64[ns](1), float64(1), int64(2), object(2)\n",
      "memory usage: 934.3+ KB\n"
     ]
    }
   ],
   "source": [
    "merged.info()"
   ]
  },
  {
   "cell_type": "code",
   "execution_count": 33,
   "id": "fe2aa622",
   "metadata": {},
   "outputs": [],
   "source": [
    "merged.drop('Month',axis = 1 , inplace = True)"
   ]
  },
  {
   "cell_type": "code",
   "execution_count": 34,
   "id": "e0225fd5",
   "metadata": {},
   "outputs": [
    {
     "data": {
      "text/plain": [
       "Expense Code            0\n",
       "Expense Quantity        0\n",
       "Government Entity       0\n",
       "Expense Amount (SAR)    0\n",
       "Date                    2\n",
       "dtype: int64"
      ]
     },
     "execution_count": 34,
     "metadata": {},
     "output_type": "execute_result"
    }
   ],
   "source": [
    "merged.isna().sum()"
   ]
  },
  {
   "cell_type": "code",
   "execution_count": 35,
   "id": "bdb3573c",
   "metadata": {},
   "outputs": [],
   "source": [
    "merged = merged.fillna(method = 'pad')"
   ]
  },
  {
   "cell_type": "code",
   "execution_count": 36,
   "id": "45255bfb",
   "metadata": {},
   "outputs": [
    {
     "data": {
      "text/plain": [
       "Expense Code            0\n",
       "Expense Quantity        0\n",
       "Government Entity       0\n",
       "Expense Amount (SAR)    0\n",
       "Date                    0\n",
       "dtype: int64"
      ]
     },
     "execution_count": 36,
     "metadata": {},
     "output_type": "execute_result"
    }
   ],
   "source": [
    "merged.isna().sum()"
   ]
  },
  {
   "cell_type": "code",
   "execution_count": 37,
   "id": "09825f73",
   "metadata": {},
   "outputs": [
    {
     "name": "stdout",
     "output_type": "stream",
     "text": [
      "<class 'pandas.core.frame.DataFrame'>\n",
      "Int64Index: 17085 entries, 0 to 17084\n",
      "Data columns (total 5 columns):\n",
      " #   Column                Non-Null Count  Dtype         \n",
      "---  ------                --------------  -----         \n",
      " 0   Expense Code          17085 non-null  int64         \n",
      " 1   Expense Quantity      17085 non-null  int64         \n",
      " 2   Government Entity     17085 non-null  object        \n",
      " 3   Expense Amount (SAR)  17085 non-null  float64       \n",
      " 4   Date                  17085 non-null  datetime64[ns]\n",
      "dtypes: datetime64[ns](1), float64(1), int64(2), object(1)\n",
      "memory usage: 800.9+ KB\n"
     ]
    }
   ],
   "source": [
    "merged.info()"
   ]
  },
  {
   "cell_type": "code",
   "execution_count": 38,
   "id": "536350d3",
   "metadata": {},
   "outputs": [
    {
     "data": {
      "text/plain": [
       "0"
      ]
     },
     "execution_count": 38,
     "metadata": {},
     "output_type": "execute_result"
    }
   ],
   "source": [
    "merged.duplicated().sum()"
   ]
  },
  {
   "cell_type": "code",
   "execution_count": 39,
   "id": "5dfa5bdc",
   "metadata": {},
   "outputs": [
    {
     "data": {
      "text/html": [
       "<div>\n",
       "<style scoped>\n",
       "    .dataframe tbody tr th:only-of-type {\n",
       "        vertical-align: middle;\n",
       "    }\n",
       "\n",
       "    .dataframe tbody tr th {\n",
       "        vertical-align: top;\n",
       "    }\n",
       "\n",
       "    .dataframe thead th {\n",
       "        text-align: right;\n",
       "    }\n",
       "</style>\n",
       "<table border=\"1\" class=\"dataframe\">\n",
       "  <thead>\n",
       "    <tr style=\"text-align: right;\">\n",
       "      <th></th>\n",
       "      <th>Expense Code</th>\n",
       "      <th>Expense Quantity</th>\n",
       "      <th>Government Entity</th>\n",
       "      <th>Expense Amount (SAR)</th>\n",
       "      <th>Date</th>\n",
       "    </tr>\n",
       "  </thead>\n",
       "  <tbody>\n",
       "    <tr>\n",
       "      <th>0</th>\n",
       "      <td>10003</td>\n",
       "      <td>1530</td>\n",
       "      <td>Ministry of Education</td>\n",
       "      <td>4.48</td>\n",
       "      <td>2017-08-01</td>\n",
       "    </tr>\n",
       "    <tr>\n",
       "      <th>1</th>\n",
       "      <td>10003</td>\n",
       "      <td>3060</td>\n",
       "      <td>Ministry of Education</td>\n",
       "      <td>4.48</td>\n",
       "      <td>2017-09-01</td>\n",
       "    </tr>\n",
       "    <tr>\n",
       "      <th>2</th>\n",
       "      <td>10007</td>\n",
       "      <td>1792</td>\n",
       "      <td>Ministry of Health</td>\n",
       "      <td>8.82</td>\n",
       "      <td>2017-07-01</td>\n",
       "    </tr>\n",
       "    <tr>\n",
       "      <th>3</th>\n",
       "      <td>10007</td>\n",
       "      <td>2048</td>\n",
       "      <td>Ministry of Health</td>\n",
       "      <td>8.82</td>\n",
       "      <td>2017-09-01</td>\n",
       "    </tr>\n",
       "    <tr>\n",
       "      <th>4</th>\n",
       "      <td>10007</td>\n",
       "      <td>1024</td>\n",
       "      <td>Ministry of Health</td>\n",
       "      <td>8.82</td>\n",
       "      <td>2018-02-01</td>\n",
       "    </tr>\n",
       "  </tbody>\n",
       "</table>\n",
       "</div>"
      ],
      "text/plain": [
       "   Expense Code  Expense Quantity      Government Entity  \\\n",
       "0         10003              1530  Ministry of Education   \n",
       "1         10003              3060  Ministry of Education   \n",
       "2         10007              1792     Ministry of Health   \n",
       "3         10007              2048     Ministry of Health   \n",
       "4         10007              1024     Ministry of Health   \n",
       "\n",
       "   Expense Amount (SAR)       Date  \n",
       "0                  4.48 2017-08-01  \n",
       "1                  4.48 2017-09-01  \n",
       "2                  8.82 2017-07-01  \n",
       "3                  8.82 2017-09-01  \n",
       "4                  8.82 2018-02-01  "
      ]
     },
     "execution_count": 39,
     "metadata": {},
     "output_type": "execute_result"
    }
   ],
   "source": [
    "merged.head()"
   ]
  },
  {
   "cell_type": "markdown",
   "id": "f9a0a16c",
   "metadata": {},
   "source": [
    "# Index Month"
   ]
  },
  {
   "cell_type": "code",
   "execution_count": 40,
   "id": "72129b4a",
   "metadata": {},
   "outputs": [
    {
     "data": {
      "text/html": [
       "<div>\n",
       "<style scoped>\n",
       "    .dataframe tbody tr th:only-of-type {\n",
       "        vertical-align: middle;\n",
       "    }\n",
       "\n",
       "    .dataframe tbody tr th {\n",
       "        vertical-align: top;\n",
       "    }\n",
       "\n",
       "    .dataframe thead th {\n",
       "        text-align: right;\n",
       "    }\n",
       "</style>\n",
       "<table border=\"1\" class=\"dataframe\">\n",
       "  <thead>\n",
       "    <tr style=\"text-align: right;\">\n",
       "      <th></th>\n",
       "      <th>Expense Code</th>\n",
       "      <th>Expense Quantity</th>\n",
       "      <th>Government Entity</th>\n",
       "      <th>Expense Amount (SAR)</th>\n",
       "    </tr>\n",
       "    <tr>\n",
       "      <th>Date</th>\n",
       "      <th></th>\n",
       "      <th></th>\n",
       "      <th></th>\n",
       "      <th></th>\n",
       "    </tr>\n",
       "  </thead>\n",
       "  <tbody>\n",
       "    <tr>\n",
       "      <th>2017-08-01</th>\n",
       "      <td>10003</td>\n",
       "      <td>1530</td>\n",
       "      <td>Ministry of Education</td>\n",
       "      <td>4.48</td>\n",
       "    </tr>\n",
       "    <tr>\n",
       "      <th>2017-09-01</th>\n",
       "      <td>10003</td>\n",
       "      <td>3060</td>\n",
       "      <td>Ministry of Education</td>\n",
       "      <td>4.48</td>\n",
       "    </tr>\n",
       "    <tr>\n",
       "      <th>2017-07-01</th>\n",
       "      <td>10007</td>\n",
       "      <td>1792</td>\n",
       "      <td>Ministry of Health</td>\n",
       "      <td>8.82</td>\n",
       "    </tr>\n",
       "    <tr>\n",
       "      <th>2017-09-01</th>\n",
       "      <td>10007</td>\n",
       "      <td>2048</td>\n",
       "      <td>Ministry of Health</td>\n",
       "      <td>8.82</td>\n",
       "    </tr>\n",
       "    <tr>\n",
       "      <th>2018-02-01</th>\n",
       "      <td>10007</td>\n",
       "      <td>1024</td>\n",
       "      <td>Ministry of Health</td>\n",
       "      <td>8.82</td>\n",
       "    </tr>\n",
       "  </tbody>\n",
       "</table>\n",
       "</div>"
      ],
      "text/plain": [
       "            Expense Code  Expense Quantity      Government Entity  \\\n",
       "Date                                                                \n",
       "2017-08-01         10003              1530  Ministry of Education   \n",
       "2017-09-01         10003              3060  Ministry of Education   \n",
       "2017-07-01         10007              1792     Ministry of Health   \n",
       "2017-09-01         10007              2048     Ministry of Health   \n",
       "2018-02-01         10007              1024     Ministry of Health   \n",
       "\n",
       "            Expense Amount (SAR)  \n",
       "Date                              \n",
       "2017-08-01                  4.48  \n",
       "2017-09-01                  4.48  \n",
       "2017-07-01                  8.82  \n",
       "2017-09-01                  8.82  \n",
       "2018-02-01                  8.82  "
      ]
     },
     "execution_count": 40,
     "metadata": {},
     "output_type": "execute_result"
    }
   ],
   "source": [
    "merged.set_index('Date',inplace= True)\n",
    "merged.head()"
   ]
  },
  {
   "cell_type": "code",
   "execution_count": 41,
   "id": "8e05b59e",
   "metadata": {},
   "outputs": [
    {
     "name": "stdout",
     "output_type": "stream",
     "text": [
      "<class 'pandas.core.frame.DataFrame'>\n",
      "DatetimeIndex: 17085 entries, 2017-08-01 to 2018-04-01\n",
      "Data columns (total 4 columns):\n",
      " #   Column                Non-Null Count  Dtype  \n",
      "---  ------                --------------  -----  \n",
      " 0   Expense Code          17085 non-null  int64  \n",
      " 1   Expense Quantity      17085 non-null  int64  \n",
      " 2   Government Entity     17085 non-null  object \n",
      " 3   Expense Amount (SAR)  17085 non-null  float64\n",
      "dtypes: float64(1), int64(2), object(1)\n",
      "memory usage: 667.4+ KB\n"
     ]
    }
   ],
   "source": [
    "merged.info()"
   ]
  },
  {
   "cell_type": "code",
   "execution_count": 42,
   "id": "6d1ae550",
   "metadata": {},
   "outputs": [],
   "source": [
    "merged.drop('Expense Code',axis = 1 , inplace = True)"
   ]
  },
  {
   "cell_type": "code",
   "execution_count": 43,
   "id": "bd7010ea",
   "metadata": {},
   "outputs": [
    {
     "name": "stdout",
     "output_type": "stream",
     "text": [
      "<class 'pandas.core.frame.DataFrame'>\n",
      "DatetimeIndex: 17085 entries, 2017-08-01 to 2018-04-01\n",
      "Data columns (total 3 columns):\n",
      " #   Column                Non-Null Count  Dtype  \n",
      "---  ------                --------------  -----  \n",
      " 0   Expense Quantity      17085 non-null  int64  \n",
      " 1   Government Entity     17085 non-null  object \n",
      " 2   Expense Amount (SAR)  17085 non-null  float64\n",
      "dtypes: float64(1), int64(1), object(1)\n",
      "memory usage: 533.9+ KB\n"
     ]
    }
   ],
   "source": [
    "merged.info()"
   ]
  },
  {
   "cell_type": "code",
   "execution_count": 44,
   "id": "b7ff4dfd",
   "metadata": {},
   "outputs": [
    {
     "data": {
      "text/html": [
       "<div>\n",
       "<style scoped>\n",
       "    .dataframe tbody tr th:only-of-type {\n",
       "        vertical-align: middle;\n",
       "    }\n",
       "\n",
       "    .dataframe tbody tr th {\n",
       "        vertical-align: top;\n",
       "    }\n",
       "\n",
       "    .dataframe thead th {\n",
       "        text-align: right;\n",
       "    }\n",
       "</style>\n",
       "<table border=\"1\" class=\"dataframe\">\n",
       "  <thead>\n",
       "    <tr style=\"text-align: right;\">\n",
       "      <th></th>\n",
       "      <th>Expense Quantity</th>\n",
       "      <th>Government Entity</th>\n",
       "      <th>Expense Amount (SAR)</th>\n",
       "    </tr>\n",
       "    <tr>\n",
       "      <th>Date</th>\n",
       "      <th></th>\n",
       "      <th></th>\n",
       "      <th></th>\n",
       "    </tr>\n",
       "  </thead>\n",
       "  <tbody>\n",
       "    <tr>\n",
       "      <th>2017-08-01</th>\n",
       "      <td>1530</td>\n",
       "      <td>Ministry of Education</td>\n",
       "      <td>4.48</td>\n",
       "    </tr>\n",
       "    <tr>\n",
       "      <th>2017-09-01</th>\n",
       "      <td>3060</td>\n",
       "      <td>Ministry of Education</td>\n",
       "      <td>4.48</td>\n",
       "    </tr>\n",
       "    <tr>\n",
       "      <th>2017-07-01</th>\n",
       "      <td>1792</td>\n",
       "      <td>Ministry of Health</td>\n",
       "      <td>8.82</td>\n",
       "    </tr>\n",
       "    <tr>\n",
       "      <th>2017-09-01</th>\n",
       "      <td>2048</td>\n",
       "      <td>Ministry of Health</td>\n",
       "      <td>8.82</td>\n",
       "    </tr>\n",
       "    <tr>\n",
       "      <th>2018-02-01</th>\n",
       "      <td>1024</td>\n",
       "      <td>Ministry of Health</td>\n",
       "      <td>8.82</td>\n",
       "    </tr>\n",
       "  </tbody>\n",
       "</table>\n",
       "</div>"
      ],
      "text/plain": [
       "            Expense Quantity      Government Entity  Expense Amount (SAR)\n",
       "Date                                                                     \n",
       "2017-08-01              1530  Ministry of Education                  4.48\n",
       "2017-09-01              3060  Ministry of Education                  4.48\n",
       "2017-07-01              1792     Ministry of Health                  8.82\n",
       "2017-09-01              2048     Ministry of Health                  8.82\n",
       "2018-02-01              1024     Ministry of Health                  8.82"
      ]
     },
     "execution_count": 44,
     "metadata": {},
     "output_type": "execute_result"
    }
   ],
   "source": [
    "merged.head()"
   ]
  },
  {
   "cell_type": "markdown",
   "id": "dd94a1d3",
   "metadata": {},
   "source": [
    "# Exploratory Data Analysis (EDA)"
   ]
  },
  {
   "cell_type": "code",
   "execution_count": 46,
   "id": "4d44a52d",
   "metadata": {},
   "outputs": [
    {
     "data": {
      "image/png": "[encoded data removed]",
      "text/plain": [
       "<Figure size 1500x600 with 1 Axes>"
      ]
     },
     "metadata": {},
     "output_type": "display_data"
    }
   ],
   "source": [
    "merged_temp = merged.groupby(['Date'])['Expense Amount (SAR)'].mean().reset_index()\n",
    "\n",
    "plt.figure(figsize=(15,6))\n",
    "ax = sns.lineplot(x=\"Date\", y=\"Expense Amount (SAR)\", data=merged_temp).set_title(\"AverageExpense Amount (SAR)  on the Date\",fontsize=15)"
   ]
  },
  {
   "cell_type": "code",
   "execution_count": 47,
   "id": "46b27719",
   "metadata": {},
   "outputs": [
    {
     "data": {
      "text/plain": [
       "DatetimeIndex(['2017-08-01', '2017-09-01', '2017-07-01', '2017-09-01',\n",
       "               '2018-02-01', '2017-06-01', '2017-06-01', '2017-10-01',\n",
       "               '2018-03-01', '2017-04-01',\n",
       "               ...\n",
       "               '2018-03-01', '2018-05-01', '2017-05-01', '2017-06-01',\n",
       "               '2017-12-01', '2017-05-01', '2018-03-01', '2017-04-01',\n",
       "               '2017-10-01', '2018-04-01'],\n",
       "              dtype='datetime64[ns]', name='Date', length=17085, freq=None)"
      ]
     },
     "execution_count": 47,
     "metadata": {},
     "output_type": "execute_result"
    }
   ],
   "source": [
    "merged.index"
   ]
  },
  {
   "cell_type": "code",
   "execution_count": 48,
   "id": "0842132d",
   "metadata": {},
   "outputs": [
    {
     "data": {
      "image/png": "[encoded data removed]",
      "text/plain": [
       "<Figure size 1500x600 with 1 Axes>"
      ]
     },
     "metadata": {},
     "output_type": "display_data"
    }
   ],
   "source": [
    "merged_temp = merged.groupby(['Date'])['Expense Quantity'].mean().reset_index()\n",
    "\n",
    "plt.figure(figsize=(15,6))\n",
    "ax = sns.lineplot(x=\"Date\", y=\"Expense Quantity\", data=merged_temp).set_title(\"Average Expense Quantity on the Date\",fontsize=15)"
   ]
  },
  {
   "cell_type": "code",
   "execution_count": 49,
   "id": "d4dd50ac",
   "metadata": {},
   "outputs": [
    {
     "data": {
      "text/html": [
       "<div>\n",
       "<style scoped>\n",
       "    .dataframe tbody tr th:only-of-type {\n",
       "        vertical-align: middle;\n",
       "    }\n",
       "\n",
       "    .dataframe tbody tr th {\n",
       "        vertical-align: top;\n",
       "    }\n",
       "\n",
       "    .dataframe thead th {\n",
       "        text-align: right;\n",
       "    }\n",
       "</style>\n",
       "<table border=\"1\" class=\"dataframe\">\n",
       "  <thead>\n",
       "    <tr style=\"text-align: right;\">\n",
       "      <th></th>\n",
       "      <th>Expense Quantity</th>\n",
       "      <th>Government Entity</th>\n",
       "      <th>Expense Amount (SAR)</th>\n",
       "    </tr>\n",
       "    <tr>\n",
       "      <th>Date</th>\n",
       "      <th></th>\n",
       "      <th></th>\n",
       "      <th></th>\n",
       "    </tr>\n",
       "  </thead>\n",
       "  <tbody>\n",
       "    <tr>\n",
       "      <th>2017-08-01</th>\n",
       "      <td>1530</td>\n",
       "      <td>Ministry of Education</td>\n",
       "      <td>4.48</td>\n",
       "    </tr>\n",
       "    <tr>\n",
       "      <th>2017-09-01</th>\n",
       "      <td>3060</td>\n",
       "      <td>Ministry of Education</td>\n",
       "      <td>4.48</td>\n",
       "    </tr>\n",
       "    <tr>\n",
       "      <th>2017-07-01</th>\n",
       "      <td>1792</td>\n",
       "      <td>Ministry of Health</td>\n",
       "      <td>8.82</td>\n",
       "    </tr>\n",
       "    <tr>\n",
       "      <th>2017-09-01</th>\n",
       "      <td>2048</td>\n",
       "      <td>Ministry of Health</td>\n",
       "      <td>8.82</td>\n",
       "    </tr>\n",
       "    <tr>\n",
       "      <th>2017-06-01</th>\n",
       "      <td>8</td>\n",
       "      <td>Ministry of Health</td>\n",
       "      <td>4.05</td>\n",
       "    </tr>\n",
       "    <tr>\n",
       "      <th>...</th>\n",
       "      <td>...</td>\n",
       "      <td>...</td>\n",
       "      <td>...</td>\n",
       "    </tr>\n",
       "    <tr>\n",
       "      <th>2017-06-01</th>\n",
       "      <td>1920</td>\n",
       "      <td>Ministry of Energy</td>\n",
       "      <td>9.87</td>\n",
       "    </tr>\n",
       "    <tr>\n",
       "      <th>2017-12-01</th>\n",
       "      <td>1152</td>\n",
       "      <td>Ministry of Energy</td>\n",
       "      <td>9.87</td>\n",
       "    </tr>\n",
       "    <tr>\n",
       "      <th>2017-05-01</th>\n",
       "      <td>2700</td>\n",
       "      <td>Ministry of Health</td>\n",
       "      <td>3.63</td>\n",
       "    </tr>\n",
       "    <tr>\n",
       "      <th>2017-04-01</th>\n",
       "      <td>7800</td>\n",
       "      <td>Ministry of Energy</td>\n",
       "      <td>9.84</td>\n",
       "    </tr>\n",
       "    <tr>\n",
       "      <th>2017-10-01</th>\n",
       "      <td>5200</td>\n",
       "      <td>Ministry of Energy</td>\n",
       "      <td>9.84</td>\n",
       "    </tr>\n",
       "  </tbody>\n",
       "</table>\n",
       "<p>11159 rows × 3 columns</p>\n",
       "</div>"
      ],
      "text/plain": [
       "            Expense Quantity      Government Entity  Expense Amount (SAR)\n",
       "Date                                                                     \n",
       "2017-08-01              1530  Ministry of Education                  4.48\n",
       "2017-09-01              3060  Ministry of Education                  4.48\n",
       "2017-07-01              1792     Ministry of Health                  8.82\n",
       "2017-09-01              2048     Ministry of Health                  8.82\n",
       "2017-06-01                 8     Ministry of Health                  4.05\n",
       "...                      ...                    ...                   ...\n",
       "2017-06-01              1920     Ministry of Energy                  9.87\n",
       "2017-12-01              1152     Ministry of Energy                  9.87\n",
       "2017-05-01              2700     Ministry of Health                  3.63\n",
       "2017-04-01              7800     Ministry of Energy                  9.84\n",
       "2017-10-01              5200     Ministry of Energy                  9.84\n",
       "\n",
       "[11159 rows x 3 columns]"
      ]
     },
     "execution_count": 49,
     "metadata": {},
     "output_type": "execute_result"
    }
   ],
   "source": [
    "merged['2017':'2017']"
   ]
  },
  {
   "cell_type": "code",
   "execution_count": null,
   "id": "8e957b59",
   "metadata": {},
   "outputs": [],
   "source": []
  },
  {
   "cell_type": "code",
   "execution_count": null,
   "id": "69121749",
   "metadata": {},
   "outputs": [],
   "source": []
  }
 ],
 "metadata": {
  "kernelspec": {
   "display_name": "Python 3 (ipykernel)",
   "language": "python",
   "name": "python3"
  },
  "language_info": {
   "codemirror_mode": {
    "name": "ipython",
    "version": 3
   },
   "file_extension": ".py",
   "mimetype": "text/x-python",
   "name": "python",
   "nbconvert_exporter": "python",
   "pygments_lexer": "ipython3",
   "version": "3.9.13"
  }
 },
 "nbformat": 4,
 "nbformat_minor": 5
}
